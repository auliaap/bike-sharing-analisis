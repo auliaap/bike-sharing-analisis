{
  "cells": [
    {
      "cell_type": "markdown",
      "metadata": {
        "id": "H9wADwK78DCz"
      },
      "source": [
        "# Proyek Analisis Data: [Input Nama Dataset]\n",
        "- **Nama:** Aulia Aisyah Putri\n",
        "- **Email:** auliaaisyahp@gmail.com / m204b4kx0722@bangkit.academy\n",
        "- **ID Dicoding:** auliaa16"
      ]
    },
    {
      "cell_type": "markdown",
      "metadata": {
        "id": "eE0raob58DC0"
      },
      "source": [
        "## Menentukan Pertanyaan Bisnis"
      ]
    },
    {
      "cell_type": "markdown",
      "metadata": {
        "id": "GmQeQ5YF8DC0"
      },
      "source": [
        "- Apakah ada tren peningkatan penggunaan sepeda pada musim tertentu dalam setahun?\n",
        "- Jam berapa penggunaan sepeda paling tinggi dalam sehari?"
      ]
    },
    {
      "cell_type": "markdown",
      "metadata": {
        "id": "H-z4QGlO8DC1"
      },
      "source": [
        "## Import Semua Packages/Library yang Digunakan"
      ]
    },
    {
      "cell_type": "code",
      "execution_count": 1,
      "metadata": {
        "colab": {
          "base_uri": "https://localhost:8080/"
        },
        "id": "FVYwaObI8DC1",
        "outputId": "7544589d-b682-46bd-e59e-a1ff33441648"
      },
      "outputs": [
        {
          "ename": "ModuleNotFoundError",
          "evalue": "No module named 'matplotlib'",
          "output_type": "error",
          "traceback": [
            "\u001b[1;31m---------------------------------------------------------------------------\u001b[0m",
            "\u001b[1;31mModuleNotFoundError\u001b[0m                       Traceback (most recent call last)",
            "Cell \u001b[1;32mIn[1], line 3\u001b[0m\n\u001b[0;32m      1\u001b[0m \u001b[38;5;28;01mimport\u001b[39;00m \u001b[38;5;21;01mpandas\u001b[39;00m \u001b[38;5;28;01mas\u001b[39;00m \u001b[38;5;21;01mpd\u001b[39;00m\n\u001b[0;32m      2\u001b[0m \u001b[38;5;28;01mimport\u001b[39;00m \u001b[38;5;21;01mnumpy\u001b[39;00m \u001b[38;5;28;01mas\u001b[39;00m \u001b[38;5;21;01mnp\u001b[39;00m\n\u001b[1;32m----> 3\u001b[0m \u001b[38;5;28;01mimport\u001b[39;00m \u001b[38;5;21;01mmatplotlib\u001b[39;00m\u001b[38;5;21;01m.\u001b[39;00m\u001b[38;5;21;01mpyplot\u001b[39;00m \u001b[38;5;28;01mas\u001b[39;00m \u001b[38;5;21;01mplt\u001b[39;00m\n\u001b[0;32m      4\u001b[0m \u001b[38;5;28;01mimport\u001b[39;00m \u001b[38;5;21;01mseaborn\u001b[39;00m \u001b[38;5;28;01mas\u001b[39;00m \u001b[38;5;21;01msns\u001b[39;00m\n\u001b[0;32m      5\u001b[0m \u001b[38;5;28;01mfrom\u001b[39;00m \u001b[38;5;21;01mscipy\u001b[39;00m \u001b[38;5;28;01mimport\u001b[39;00m stats\n",
            "\u001b[1;31mModuleNotFoundError\u001b[0m: No module named 'matplotlib'"
          ]
        }
      ],
      "source": [
        "import pandas as pd\n",
        "import numpy as np\n",
        "import matplotlib.pyplot as plt\n",
        "import seaborn as sns\n",
        "from scipy import stats\n",
        "!pip install streamlit\n",
        "import streamlit as st"
      ]
    },
    {
      "cell_type": "markdown",
      "metadata": {
        "id": "h_Sh51Xy8DC1"
      },
      "source": [
        "## Data Wrangling"
      ]
    },
    {
      "cell_type": "markdown",
      "metadata": {
        "id": "sXU2GBYu8DC1"
      },
      "source": [
        "### Gathering Data"
      ]
    },
    {
      "cell_type": "code",
      "execution_count": 41,
      "metadata": {
        "colab": {
          "base_uri": "https://localhost:8080/"
        },
        "id": "zjCBk1BI8DC1",
        "outputId": "53995616-9fbd-4391-b925-60e62226702b"
      },
      "outputs": [
        {
          "name": "stdout",
          "output_type": "stream",
          "text": [
            "Day Dataset:\n",
            "   instant      dteday  season  yr  mnth  holiday  weekday  workingday  \\\n",
            "0        1  2011-01-01       1   0     1        0        6           0   \n",
            "1        2  2011-01-02       1   0     1        0        0           0   \n",
            "2        3  2011-01-03       1   0     1        0        1           1   \n",
            "3        4  2011-01-04       1   0     1        0        2           1   \n",
            "4        5  2011-01-05       1   0     1        0        3           1   \n",
            "\n",
            "   weathersit      temp     atemp       hum  windspeed  casual  registered  \\\n",
            "0           2  0.344167  0.363625  0.805833   0.160446     331         654   \n",
            "1           2  0.363478  0.353739  0.696087   0.248539     131         670   \n",
            "2           1  0.196364  0.189405  0.437273   0.248309     120        1229   \n",
            "3           1  0.200000  0.212122  0.590435   0.160296     108        1454   \n",
            "4           1  0.226957  0.229270  0.436957   0.186900      82        1518   \n",
            "\n",
            "    cnt  \n",
            "0   985  \n",
            "1   801  \n",
            "2  1349  \n",
            "3  1562  \n",
            "4  1600   \n",
            "\n",
            "Informasi Day Dataset:\n",
            "<class 'pandas.core.frame.DataFrame'>\n",
            "RangeIndex: 731 entries, 0 to 730\n",
            "Data columns (total 16 columns):\n",
            " #   Column      Non-Null Count  Dtype  \n",
            "---  ------      --------------  -----  \n",
            " 0   instant     731 non-null    int64  \n",
            " 1   dteday      731 non-null    object \n",
            " 2   season      731 non-null    int64  \n",
            " 3   yr          731 non-null    int64  \n",
            " 4   mnth        731 non-null    int64  \n",
            " 5   holiday     731 non-null    int64  \n",
            " 6   weekday     731 non-null    int64  \n",
            " 7   workingday  731 non-null    int64  \n",
            " 8   weathersit  731 non-null    int64  \n",
            " 9   temp        731 non-null    float64\n",
            " 10  atemp       731 non-null    float64\n",
            " 11  hum         731 non-null    float64\n",
            " 12  windspeed   731 non-null    float64\n",
            " 13  casual      731 non-null    int64  \n",
            " 14  registered  731 non-null    int64  \n",
            " 15  cnt         731 non-null    int64  \n",
            "dtypes: float64(4), int64(11), object(1)\n",
            "memory usage: 91.5+ KB\n",
            "None \n",
            "\n",
            "Hour Dataset:\n",
            "   instant      dteday  season  yr  mnth  hr  holiday  weekday  workingday  \\\n",
            "0        1  2011-01-01       1   0     1   0        0        6           0   \n",
            "1        2  2011-01-01       1   0     1   1        0        6           0   \n",
            "2        3  2011-01-01       1   0     1   2        0        6           0   \n",
            "3        4  2011-01-01       1   0     1   3        0        6           0   \n",
            "4        5  2011-01-01       1   0     1   4        0        6           0   \n",
            "\n",
            "   weathersit  temp   atemp   hum  windspeed  casual  registered  cnt  \n",
            "0           1  0.24  0.2879  0.81        0.0       3          13   16  \n",
            "1           1  0.22  0.2727  0.80        0.0       8          32   40  \n",
            "2           1  0.22  0.2727  0.80        0.0       5          27   32  \n",
            "3           1  0.24  0.2879  0.75        0.0       3          10   13  \n",
            "4           1  0.24  0.2879  0.75        0.0       0           1    1   \n",
            "\n",
            "Informasi Hour Dataset:\n",
            "<class 'pandas.core.frame.DataFrame'>\n",
            "RangeIndex: 17379 entries, 0 to 17378\n",
            "Data columns (total 17 columns):\n",
            " #   Column      Non-Null Count  Dtype  \n",
            "---  ------      --------------  -----  \n",
            " 0   instant     17379 non-null  int64  \n",
            " 1   dteday      17379 non-null  object \n",
            " 2   season      17379 non-null  int64  \n",
            " 3   yr          17379 non-null  int64  \n",
            " 4   mnth        17379 non-null  int64  \n",
            " 5   hr          17379 non-null  int64  \n",
            " 6   holiday     17379 non-null  int64  \n",
            " 7   weekday     17379 non-null  int64  \n",
            " 8   workingday  17379 non-null  int64  \n",
            " 9   weathersit  17379 non-null  int64  \n",
            " 10  temp        17379 non-null  float64\n",
            " 11  atemp       17379 non-null  float64\n",
            " 12  hum         17379 non-null  float64\n",
            " 13  windspeed   17379 non-null  float64\n",
            " 14  casual      17379 non-null  int64  \n",
            " 15  registered  17379 non-null  int64  \n",
            " 16  cnt         17379 non-null  int64  \n",
            "dtypes: float64(4), int64(12), object(1)\n",
            "memory usage: 2.3+ MB\n",
            "None \n",
            "\n"
          ]
        }
      ],
      "source": [
        "day_df = pd.read_csv('/content/day.csv')\n",
        "hour_df = pd.read_csv('/content/hour.csv')\n",
        "\n",
        "#Data Day\n",
        "print(\"Day Dataset:\")\n",
        "print(day_df.head(), \"\\n\")\n",
        "\n",
        "print(\"Informasi Day Dataset:\")\n",
        "print(day_df.info(), \"\\n\")\n",
        "\n",
        "#Data Hours\n",
        "print(\"Hour Dataset:\")\n",
        "print(hour_df.head(), \"\\n\")\n",
        "\n",
        "print(\"Informasi Hour Dataset:\")\n",
        "print(hour_df.info(), \"\\n\")\n",
        "\n"
      ]
    },
    {
      "cell_type": "markdown",
      "metadata": {
        "id": "MMi6xGaDkbCi"
      },
      "source": [
        "**Insight:**\n",
        "- Dataset  day.csv (731 entri, 16 kolom) yang mewakili data penggunaan sepeda secara harian selama dua tahun (2011-2012), memiliki kolom penting: cnt (total pengguna sepeda), temp, hum, windspeed, dan weathersit, dan kolom dteday bisa dikonversi ke datetime. Day Dataset bisa digunakan untuk analisis tren harian, seperti melihat tren penggunaan sepeda per bulan, atau melihat bagaimana hari kerja dan akhir pekan memengaruhi penggunaan sepeda.\n",
        "\n",
        "- Dataset hour.csv (17.379 entri, 17 kolom) yang merepresentasikan data penggunaan sepeda per jam selama 2011-2012, memiliki kolom penting: hr (jam), cnt (total pengguna per jam), temp, weathersit. Hour Dataset memberikan granularitas lebih tinggi untuk analisis pola penggunaan sepeda sepanjang hari, yang memungkinkan kita mengidentifikasi waktu-waktu puncak atau pengaruh cuaca pada jam-jam tertentu."
      ]
    },
    {
      "cell_type": "markdown",
      "metadata": {
        "id": "FHSiqaZp8DC1"
      },
      "source": [
        "### Assessing Data"
      ]
    },
    {
      "cell_type": "code",
      "execution_count": 42,
      "metadata": {
        "colab": {
          "base_uri": "https://localhost:8080/"
        },
        "id": "ax-3tEjc9Cj1",
        "outputId": "526505bd-1597-4daf-a1c8-2c143792edea"
      },
      "outputs": [
        {
          "name": "stdout",
          "output_type": "stream",
          "text": [
            "Missing values in Day dataset:\n",
            " instant       0\n",
            "dteday        0\n",
            "season        0\n",
            "yr            0\n",
            "mnth          0\n",
            "holiday       0\n",
            "weekday       0\n",
            "workingday    0\n",
            "weathersit    0\n",
            "temp          0\n",
            "atemp         0\n",
            "hum           0\n",
            "windspeed     0\n",
            "casual        0\n",
            "registered    0\n",
            "cnt           0\n",
            "dtype: int64\n",
            "\n",
            "Missing values in Hour dataset:\n",
            " instant       0\n",
            "dteday        0\n",
            "season        0\n",
            "yr            0\n",
            "mnth          0\n",
            "hr            0\n",
            "holiday       0\n",
            "weekday       0\n",
            "workingday    0\n",
            "weathersit    0\n",
            "temp          0\n",
            "atemp         0\n",
            "hum           0\n",
            "windspeed     0\n",
            "casual        0\n",
            "registered    0\n",
            "cnt           0\n",
            "dtype: int64\n",
            "\n",
            "Duplicate entries in Day dataset: 0\n",
            "Duplicate entries in Hour dataset: 0\n",
            "\n",
            "Descriptive statistics for Day dataset:\n",
            "          instant      season          yr        mnth     holiday     weekday  \\\n",
            "count  731.000000  731.000000  731.000000  731.000000  731.000000  731.000000   \n",
            "mean   366.000000    2.496580    0.500684    6.519836    0.028728    2.997264   \n",
            "std    211.165812    1.110807    0.500342    3.451913    0.167155    2.004787   \n",
            "min      1.000000    1.000000    0.000000    1.000000    0.000000    0.000000   \n",
            "25%    183.500000    2.000000    0.000000    4.000000    0.000000    1.000000   \n",
            "50%    366.000000    3.000000    1.000000    7.000000    0.000000    3.000000   \n",
            "75%    548.500000    3.000000    1.000000   10.000000    0.000000    5.000000   \n",
            "max    731.000000    4.000000    1.000000   12.000000    1.000000    6.000000   \n",
            "\n",
            "       workingday  weathersit        temp       atemp         hum   windspeed  \\\n",
            "count  731.000000  731.000000  731.000000  731.000000  731.000000  731.000000   \n",
            "mean     0.683995    1.395349    0.495385    0.474354    0.627894    0.190486   \n",
            "std      0.465233    0.544894    0.183051    0.162961    0.142429    0.077498   \n",
            "min      0.000000    1.000000    0.059130    0.079070    0.000000    0.022392   \n",
            "25%      0.000000    1.000000    0.337083    0.337842    0.520000    0.134950   \n",
            "50%      1.000000    1.000000    0.498333    0.486733    0.626667    0.180975   \n",
            "75%      1.000000    2.000000    0.655417    0.608602    0.730209    0.233214   \n",
            "max      1.000000    3.000000    0.861667    0.840896    0.972500    0.507463   \n",
            "\n",
            "            casual   registered          cnt  \n",
            "count   731.000000   731.000000   731.000000  \n",
            "mean    848.176471  3656.172367  4504.348837  \n",
            "std     686.622488  1560.256377  1937.211452  \n",
            "min       2.000000    20.000000    22.000000  \n",
            "25%     315.500000  2497.000000  3152.000000  \n",
            "50%     713.000000  3662.000000  4548.000000  \n",
            "75%    1096.000000  4776.500000  5956.000000  \n",
            "max    3410.000000  6946.000000  8714.000000  \n",
            "\n",
            "Descriptive statistics for Hour dataset:\n",
            "          instant        season            yr          mnth            hr  \\\n",
            "count  17379.0000  17379.000000  17379.000000  17379.000000  17379.000000   \n",
            "mean    8690.0000      2.501640      0.502561      6.537775     11.546752   \n",
            "std     5017.0295      1.106918      0.500008      3.438776      6.914405   \n",
            "min        1.0000      1.000000      0.000000      1.000000      0.000000   \n",
            "25%     4345.5000      2.000000      0.000000      4.000000      6.000000   \n",
            "50%     8690.0000      3.000000      1.000000      7.000000     12.000000   \n",
            "75%    13034.5000      3.000000      1.000000     10.000000     18.000000   \n",
            "max    17379.0000      4.000000      1.000000     12.000000     23.000000   \n",
            "\n",
            "            holiday       weekday    workingday    weathersit          temp  \\\n",
            "count  17379.000000  17379.000000  17379.000000  17379.000000  17379.000000   \n",
            "mean       0.028770      3.003683      0.682721      1.425283      0.496987   \n",
            "std        0.167165      2.005771      0.465431      0.639357      0.192556   \n",
            "min        0.000000      0.000000      0.000000      1.000000      0.020000   \n",
            "25%        0.000000      1.000000      0.000000      1.000000      0.340000   \n",
            "50%        0.000000      3.000000      1.000000      1.000000      0.500000   \n",
            "75%        0.000000      5.000000      1.000000      2.000000      0.660000   \n",
            "max        1.000000      6.000000      1.000000      4.000000      1.000000   \n",
            "\n",
            "              atemp           hum     windspeed        casual    registered  \\\n",
            "count  17379.000000  17379.000000  17379.000000  17379.000000  17379.000000   \n",
            "mean       0.475775      0.627229      0.190098     35.676218    153.786869   \n",
            "std        0.171850      0.192930      0.122340     49.305030    151.357286   \n",
            "min        0.000000      0.000000      0.000000      0.000000      0.000000   \n",
            "25%        0.333300      0.480000      0.104500      4.000000     34.000000   \n",
            "50%        0.484800      0.630000      0.194000     17.000000    115.000000   \n",
            "75%        0.621200      0.780000      0.253700     48.000000    220.000000   \n",
            "max        1.000000      1.000000      0.850700    367.000000    886.000000   \n",
            "\n",
            "                cnt  \n",
            "count  17379.000000  \n",
            "mean     189.463088  \n",
            "std      181.387599  \n",
            "min        1.000000  \n",
            "25%       40.000000  \n",
            "50%      142.000000  \n",
            "75%      281.000000  \n",
            "max      977.000000  \n",
            "\n",
            "Invalid values in Day dataset:\n",
            " Empty DataFrame\n",
            "Columns: [instant, dteday, season, yr, mnth, holiday, weekday, workingday, weathersit, temp, atemp, hum, windspeed, casual, registered, cnt]\n",
            "Index: []\n",
            "\n",
            "Invalid values in Hour dataset:\n",
            " Empty DataFrame\n",
            "Columns: [instant, dteday, season, yr, mnth, hr, holiday, weekday, workingday, weathersit, temp, atemp, hum, windspeed, casual, registered, cnt]\n",
            "Index: []\n",
            "\n",
            "Inaccurate values in Day dataset:\n",
            " Empty DataFrame\n",
            "Columns: [instant, dteday, season, yr, mnth, holiday, weekday, workingday, weathersit, temp, atemp, hum, windspeed, casual, registered, cnt]\n",
            "Index: []\n",
            "\n",
            "Inaccurate values in Hour dataset:\n",
            " Empty DataFrame\n",
            "Columns: [instant, dteday, season, yr, mnth, hr, holiday, weekday, workingday, weathersit, temp, atemp, hum, windspeed, casual, registered, cnt]\n",
            "Index: []\n",
            "\n",
            "Inconsistent values in Day dataset:\n",
            " Empty DataFrame\n",
            "Columns: [instant, dteday, season, yr, mnth, holiday, weekday, workingday, weathersit, temp, atemp, hum, windspeed, casual, registered, cnt]\n",
            "Index: []\n",
            "\n",
            "Inconsistent values in Hour dataset:\n",
            " Empty DataFrame\n",
            "Columns: [instant, dteday, season, yr, mnth, hr, holiday, weekday, workingday, weathersit, temp, atemp, hum, windspeed, casual, registered, cnt]\n",
            "Index: []\n",
            "\n",
            "Outliers in Day dataset:\n",
            " Empty DataFrame\n",
            "Columns: [instant, dteday, season, yr, mnth, holiday, weekday, workingday, weathersit, temp, atemp, hum, windspeed, casual, registered, cnt]\n",
            "Index: []\n",
            "\n",
            "Outliers in Hour dataset:\n",
            "        instant      dteday  season  yr  mnth  hr  holiday  weekday  \\\n",
            "5536      5537  2011-08-23       3   0     8  14        0        2   \n",
            "10358    10359  2012-03-12       1   1     3  17        0        1   \n",
            "10359    10360  2012-03-12       1   1     3  18        0        1   \n",
            "10382    10383  2012-03-13       1   1     3  17        0        2   \n",
            "10383    10384  2012-03-13       1   1     3  18        0        2   \n",
            "...        ...         ...     ...  ..   ...  ..      ...      ...   \n",
            "16885    16886  2012-12-11       4   1    12   8        0        2   \n",
            "16909    16910  2012-12-12       4   1    12   8        0        3   \n",
            "16933    16934  2012-12-13       4   1    12   8        0        4   \n",
            "17053    17054  2012-12-18       4   1    12   8        0        2   \n",
            "17077    17078  2012-12-19       4   1    12   8        0        3   \n",
            "\n",
            "       workingday  weathersit  temp   atemp   hum  windspeed  casual  \\\n",
            "5536            1           1  0.72  0.6515  0.30     0.0896     149   \n",
            "10358           1           2  0.62  0.6212  0.38     0.4179      87   \n",
            "10359           1           2  0.60  0.6212  0.43     0.1940      89   \n",
            "10382           1           1  0.70  0.6364  0.37     0.1045      62   \n",
            "10383           1           1  0.70  0.6364  0.34     0.2985      96   \n",
            "...           ...         ...   ...     ...   ...        ...     ...   \n",
            "16885           1           2  0.34  0.3030  0.61     0.2985      16   \n",
            "16909           1           2  0.26  0.2576  0.65     0.1642      18   \n",
            "16933           1           1  0.24  0.2273  0.60     0.1940      24   \n",
            "17053           1           1  0.38  0.3939  0.94     0.0000      10   \n",
            "17077           1           1  0.24  0.2576  0.87     0.1045      13   \n",
            "\n",
            "       registered  cnt  \n",
            "5536          502  651  \n",
            "10358         557  644  \n",
            "10359         623  712  \n",
            "10382         614  676  \n",
            "10383         638  734  \n",
            "...           ...  ...  \n",
            "16885         708  724  \n",
            "16909         670  688  \n",
            "16933         655  679  \n",
            "17053         652  662  \n",
            "17077         665  678  \n",
            "\n",
            "[505 rows x 17 columns]\n"
          ]
        }
      ],
      "source": [
        "# Missing Values\n",
        "print(\"Missing values in Day dataset:\\n\", day_df.isnull().sum())\n",
        "print(\"\\nMissing values in Hour dataset:\\n\", hour_df.isnull().sum())\n",
        "\n",
        "# Duplicate Data\n",
        "print(\"\\nDuplicate entries in Day dataset:\", day_df.duplicated().sum())\n",
        "print(\"Duplicate entries in Hour dataset:\", hour_df.duplicated().sum())\n",
        "\n",
        "# 3. Melihat statistik deskriptif\n",
        "print(\"\\nDescriptive statistics for Day dataset:\")\n",
        "print(day_df.describe())\n",
        "print(\"\\nDescriptive statistics for Hour dataset:\")\n",
        "print(hour_df.describe())\n",
        "\n",
        "# Invalid Values (negative values di kolom yang seharusnya positif)\n",
        "invalid_day = day_df[(day_df['temp'] < 0) | (day_df['hum'] < 0) | (day_df['windspeed'] < 0)]\n",
        "invalid_hour = hour_df[(hour_df['temp'] < 0) | (hour_df['hum'] < 0) | (hour_df['windspeed'] < 0)]\n",
        "print(\"\\nInvalid values in Day dataset:\\n\", invalid_day)\n",
        "print(\"\\nInvalid values in Hour dataset:\\n\", invalid_hour)\n",
        "\n",
        "# Inaccurate Values (jika suhu tidak mungkin lebih dari 1 (karena dinyatakan dalam rentang 0-1))\n",
        "inaccurate_day = day_df[day_df['temp'] > 1]\n",
        "inaccurate_hour = hour_df[hour_df['temp'] > 1]\n",
        "print(\"\\nInaccurate values in Day dataset:\\n\", inaccurate_day)\n",
        "print(\"\\nInaccurate values in Hour dataset:\\n\", inaccurate_hour)\n",
        "\n",
        "# Inconsistent Values (cek konsistensi data tahun (hanya 2011 dan 2012 yang valid))\n",
        "inconsistent_day = day_df[day_df['yr'] < 0]\n",
        "inconsistent_hour = hour_df[hour_df['yr'] < 0]\n",
        "print(\"\\nInconsistent values in Day dataset:\\n\", inconsistent_day)\n",
        "print(\"\\nInconsistent values in Hour dataset:\\n\", inconsistent_hour)\n",
        "\n",
        "\n",
        "# Outlier menggunakan IQR (Interquartile Range) untuk kolom 'cnt' (count)\n",
        "Q1_day = day_df['cnt'].quantile(0.25)\n",
        "Q3_day = day_df['cnt'].quantile(0.75)\n",
        "IQR_day = Q3_day - Q1_day\n",
        "outliers_day = day_df[(day_df['cnt'] < (Q1_day - 1.5 * IQR_day)) | (day_df['cnt'] > (Q3_day + 1.5 * IQR_day))]\n",
        "\n",
        "Q1_hour = hour_df['cnt'].quantile(0.25)\n",
        "Q3_hour = hour_df['cnt'].quantile(0.75)\n",
        "IQR_hour = Q3_hour - Q1_hour\n",
        "outliers_hour = hour_df[(hour_df['cnt'] < (Q1_hour - 1.5 * IQR_hour)) | (hour_df['cnt'] > (Q3_hour + 1.5 * IQR_hour))]\n",
        "\n",
        "print(\"\\nOutliers in Day dataset:\\n\", outliers_day)\n",
        "print(\"\\nOutliers in Hour dataset:\\n\", outliers_hour)\n"
      ]
    },
    {
      "cell_type": "markdown",
      "metadata": {
        "id": "7dtxhAPrkhPL"
      },
      "source": [
        "**Insight:**\n",
        "- Tidak ada nilai yang hilang (missing values) di kedua dataset (Day dan Hour). Hal ini menunjukkan bahwa data lengkap dan siap untuk analisis lebih lanjut\n",
        "- Tidak ditemukan entri duplikat di kedua dataset. Data yang bersih dari duplikat membantu menjaga keakuratan analisis dan model yang akan dikembangkan.\n",
        "- Tidak ditemukan nilai yang tidak valid. Ini berarti semua nilai dalam kolom yang dianalisis berada dalam rentang yang diharapkan, yang mendukung validitas data\n",
        "-Tidak ada nilai yang tidak akurat terdeteksi. Ini menunjukkan bahwa data tersebut tampaknya telah dikumpulkan atau dicatat dengan benar sesuai dengan standar yang diharapkan\n",
        "-Tidak ada nilai yang tidak konsisten ditemukan. Semua data tampaknya memenuhi kriteria yang ditetapkan untuk tahun dan kolom lainnya, yang mendukung konsistensi data\n",
        "-Ada 505 outlier yang terdeteksi di dataset Hour berdasarkan kolom cnt (jumlah pengguna). Outlier ini perlu dianalisis lebih lanjut karena dapat mempengaruhi analisis yang akan dilakukan, terutama jika Anda menggunakan metode statistik yang sensitif terhadap outlier"
      ]
    },
    {
      "cell_type": "markdown",
      "metadata": {
        "id": "EhN5R4hr8DC1"
      },
      "source": [
        "### Cleaning Data"
      ]
    },
    {
      "cell_type": "code",
      "execution_count": 43,
      "metadata": {
        "colab": {
          "base_uri": "https://localhost:8080/"
        },
        "id": "jVnYpprE9Evz",
        "outputId": "9c5bed00-f92e-4437-f4ff-500db764dc8f"
      },
      "outputs": [
        {
          "name": "stdout",
          "output_type": "stream",
          "text": [
            "Jumlah baris yang dihapus: 505\n"
          ]
        }
      ],
      "source": [
        "# Fungsi untuk mendeteksi dan menghapus outliers menggunakan metode IQR\n",
        "def remove_outliers(df, column):\n",
        "    # Menghitung Q1 (25th percentile) dan Q3 (75th percentile)\n",
        "    Q1 = df[column].quantile(0.25)\n",
        "    Q3 = df[column].quantile(0.75)\n",
        "    IQR = Q3 - Q1  # Interquartile Range (IQR)\n",
        "\n",
        "    # Mendefinisikan batasan outlier\n",
        "    lower_bound = Q1 - 1.5 * IQR\n",
        "    upper_bound = Q3 + 1.5 * IQR\n",
        "\n",
        "    # Menyaring baris yang mengandung outlier\n",
        "    df_cleaned = df[(df[column] >= lower_bound) & (df[column] <= upper_bound)]\n",
        "\n",
        "    return df_cleaned\n",
        "\n",
        "# Menerapkan fungsi untuk menghapus outliers pada kolom 'cnt' di dataset Hour\n",
        "hour_cleaned = remove_outliers(hour_df, 'cnt')\n",
        "\n",
        "# Menampilkan jumlah baris yang dihapus\n",
        "print(f'Jumlah baris yang dihapus: {len(hour_df) - len(hour_cleaned)}')\n",
        "\n",
        "# Menyimpan dataset yang sudah dibersihkan\n",
        "hour_cleaned.to_csv('hour_cleaned.csv', index=False)\n",
        "\n",
        "# Untuk dataset Day, tidak ada pembersihan yang dibutuhkan berdasarkan hasil assesing\n",
        "# Menyimpan dataset Day tanpa perubahan\n",
        "day_df.to_csv('day_cleaned.csv', index=False)\n"
      ]
    },
    {
      "cell_type": "markdown",
      "metadata": {
        "id": "Q_5ejIqckiSP"
      },
      "source": [
        "**Insight:**\n",
        "- Proses pembersihan data menunjukkan bahwa sebanyak 505 baris dihapus dari dataset Hour karena teridentifikasi sebagai outlier. Proses ini menunjukkan adanya sejumlah besar data yang berbeda secara signifikan dari tren umum dan dapat mempengaruhi analisis jika tidak dihapus."
      ]
    },
    {
      "cell_type": "markdown",
      "metadata": {
        "id": "gp-Y6wU38DC1"
      },
      "source": [
        "## Exploratory Data Analysis (EDA)"
      ]
    },
    {
      "cell_type": "markdown",
      "metadata": {
        "id": "MW7WF2kr8DC1"
      },
      "source": [
        "### Explore ..."
      ]
    },
    {
      "cell_type": "code",
      "execution_count": null,
      "metadata": {
        "id": "e9CQCZjk8DC2"
      },
      "outputs": [],
      "source": [
        "#pairplot for numeric variables\n",
        "sns.pairplot(day_df,vars = ['cnt',\"temp\",'atemp', \"hum\",'windspeed','registered','casual'])\n",
        "plt.show()"
      ]
    },
    {
      "cell_type": "markdown",
      "metadata": {
        "id": "GM0gkTML20wO"
      },
      "source": [
        "**Insight**\n",
        "\n",
        "Dari penggambaran diatas dapat disimpulkan jika:\n",
        "*   Jumlah total sepeda berkorelasi dengan Suhu\n",
        "*   Jumlah total tidak dipengaruhi oleh Kecepatan Angin, Kelembaban\n"
      ]
    },
    {
      "cell_type": "code",
      "execution_count": null,
      "metadata": {
        "id": "sePxvi37et4r"
      },
      "outputs": [],
      "source": [
        "season_avg_hour = hour_df.groupby('season')['cnt'].mean()\n",
        "season_avg_day = day_df.groupby('season')['cnt'].mean()\n",
        "\n",
        "# Membuat subplot\n",
        "fig, axes = plt.subplots(1, 2, figsize=(14, 6))\n",
        "\n",
        "# Visualisasi pengaruh musim (Per Jam) di subplot kiri\n",
        "season_avg_hour.plot(kind='bar', color='skyblue', ax=axes[0])\n",
        "axes[0].set_title('Rata-rata Peminjaman Sepeda Berdasarkan Musim (Per Jam)')\n",
        "axes[0].set_xlabel('Musim')\n",
        "axes[0].set_ylabel('Rata-rata Jumlah Peminjam')\n",
        "\n",
        "# Visualisasi pengaruh musim (Per Hari) di subplot kanan\n",
        "season_avg_day.plot(kind='bar', color='lightgreen', ax=axes[1])\n",
        "axes[1].set_title('Rata-rata Peminjaman Sepeda Berdasarkan Musim (Per Hari)')\n",
        "axes[1].set_xlabel('Musim')\n",
        "axes[1].set_ylabel('Rata-rata Jumlah Peminjam')\n",
        "\n",
        "plt.tight_layout()\n",
        "plt.show()"
      ]
    },
    {
      "cell_type": "markdown",
      "metadata": {
        "id": "UowXEFf8zNAl"
      },
      "source": [
        "**Insight**\n",
        "- Jumlah peminjam sepeda secara signifikan dipengaruhi oleh musim. Pada musim panas (season 2) dan musim gugur (season 3), jumlah peminjam sepeda meningkat, yang menunjukkan bahwa cuaca yang lebih hangat cenderung mendorong lebih banyak orang untuk menggunakan sepeda. Sebaliknya, pada musim dingin (season 1), peminjaman sepeda cenderung menurun"
      ]
    },
    {
      "cell_type": "code",
      "execution_count": null,
      "metadata": {
        "id": "ETAWy3LLhGCF"
      },
      "outputs": [],
      "source": [
        "plt.figure(figsize=(18, 5))\n",
        "\n",
        "# Hubungan antara cuaca dan peminjaman (Suhu)\n",
        "plt.subplot(1, 3, 1)\n",
        "sns.scatterplot(x='temp', y='cnt', data=hour_df, hue='weathersit', palette='coolwarm')\n",
        "plt.title('Pengaruh Suhu terhadap Jumlah Peminjam Sepeda (Per Jam)')\n",
        "plt.xlabel('Suhu (temp)')\n",
        "plt.ylabel('Jumlah Peminjam Sepeda')\n",
        "\n",
        "# Hubungan antara kelembaban dan peminjaman\n",
        "plt.subplot(1, 3, 2)\n",
        "sns.scatterplot(x='hum', y='cnt', data=hour_df, hue='weathersit', palette='coolwarm')\n",
        "plt.title('Pengaruh Kelembaban terhadap Jumlah Peminjam Sepeda (Per Jam)')\n",
        "plt.xlabel('Kelembaban (hum)')\n",
        "plt.ylabel('Jumlah Peminjam Sepeda')\n",
        "\n",
        "# Hubungan antara kecepatan angin dan peminjaman\n",
        "plt.subplot(1, 3, 3)\n",
        "sns.scatterplot(x='windspeed', y='cnt', data=hour_df, hue='weathersit', palette='coolwarm')\n",
        "plt.title('Pengaruh Kecepatan Angin terhadap Jumlah Peminjam Sepeda (Per Jam)')\n",
        "plt.xlabel('Kecepatan Angin (windspeed)')\n",
        "plt.ylabel('Jumlah Peminjam Sepeda')\n",
        "\n",
        "plt.tight_layout()\n",
        "plt.show()\n"
      ]
    },
    {
      "cell_type": "markdown",
      "metadata": {
        "id": "jDZHpt5wzS2g"
      },
      "source": [
        "**Insight**\n",
        "\n",
        "- Terdapat korelasi positif antara suhu (temp) dan jumlah peminjam sepeda, yang berarti semakin hangat suhu, semakin banyak orang yang menggunakan sepeda.\n",
        "Kelembaban: Ada korelasi negatif antara kelembaban (hum) dan peminjaman sepeda. Saat kelembaban meningkat, jumlah peminjam sepeda menurun, mungkin karena tingkat kenyamanan yang lebih rendah.\n",
        "Kecepatan Angin: Kecepatan angin juga mempengaruhi jumlah peminjam sepeda. Pada kecepatan angin yang lebih tinggi, jumlah peminjam cenderung berkurang, mungkin karena bersepeda menjadi lebih sulit di kondisi angin yang kencang."
      ]
    },
    {
      "cell_type": "code",
      "execution_count": null,
      "metadata": {
        "id": "uEBD0rhZhpGr"
      },
      "outputs": [],
      "source": [
        "# Rata-rata peminjaman berdasarkan hari libur (Per Jam)\n",
        "holiday_avg_hour = hour_df.groupby('holiday')['cnt'].mean()\n",
        "\n",
        "# Rata-rata peminjaman berdasarkan hari kerja (Per Jam)\n",
        "workingday_avg_hour = hour_df.groupby('workingday')['cnt'].mean()\n",
        "\n",
        "# Mengatur ukuran figure untuk subplot\n",
        "plt.figure(figsize=(12, 5))\n",
        "\n",
        "# Plot rata-rata peminjaman berdasarkan hari libur\n",
        "plt.subplot(1, 2, 1)\n",
        "holiday_avg_hour.plot(kind='bar', color='coral')\n",
        "plt.title('Rata-rata Peminjaman Sepeda Berdasarkan Hari Libur (Per Jam)')\n",
        "plt.xlabel('Libur (0 = Bukan Libur, 1 = Libur)')\n",
        "plt.ylabel('Rata-rata Jumlah Peminjam')\n",
        "\n",
        "# Plot rata-rata peminjaman berdasarkan hari kerja\n",
        "plt.subplot(1, 2, 2)\n",
        "workingday_avg_hour.plot(kind='bar', color='lightblue')\n",
        "plt.title('Rata-rata Peminjaman Sepeda Berdasarkan Hari Kerja (Per Jam)')\n",
        "plt.xlabel('Hari Kerja (0 = Bukan Hari Kerja, 1 = Hari Kerja)')\n",
        "plt.ylabel('Rata-rata Jumlah Peminjam')\n",
        "\n",
        "# Menampilkan plot\n",
        "plt.tight_layout()\n",
        "plt.show()"
      ]
    },
    {
      "cell_type": "code",
      "execution_count": null,
      "metadata": {
        "id": "6TESQhQViPvX"
      },
      "outputs": [],
      "source": [
        "# Rata-rata peminjaman per jam\n",
        "hour_avg = hour_df.groupby('hr')['cnt'].mean()\n",
        "\n",
        "plt.figure(figsize=(10,6))\n",
        "hour_avg.plot(kind='line', marker='o', color='purple')\n",
        "plt.title('Rata-rata Peminjaman Sepeda Berdasarkan Jam')\n",
        "plt.xlabel('Jam')\n",
        "plt.ylabel('Rata-rata Jumlah Peminjam')\n",
        "plt.grid(True)\n",
        "plt.show()"
      ]
    },
    {
      "cell_type": "code",
      "execution_count": null,
      "metadata": {
        "id": "vynpKdh3iT0x"
      },
      "outputs": [],
      "source": [
        "# Membandingkan pengguna kasual dan terdaftar\n",
        "plt.figure(figsize=(10,6))\n",
        "sns.lineplot(x='hr', y='casual', data=hour_df, label='Casual', color='red')\n",
        "sns.lineplot(x='hr', y='registered', data=hour_df, label='Registered', color='blue')\n",
        "plt.title('Perbandingan Pengguna Kasual dan Terdaftar Berdasarkan Jam')\n",
        "plt.xlabel('Jam')\n",
        "plt.ylabel('Jumlah Peminjam')\n",
        "plt.legend()\n",
        "plt.grid(True)\n",
        "plt.show()"
      ]
    },
    {
      "cell_type": "code",
      "execution_count": null,
      "metadata": {
        "id": "HIntZR9kigbI"
      },
      "outputs": [],
      "source": [
        "# Tren peminjaman sepeda berdasarkan tahun\n",
        "year_avg_day = day_df.groupby('yr')['cnt'].mean()\n",
        "\n",
        "plt.figure(figsize=(8,6))\n",
        "year_avg_day.plot(kind='bar', color='green')\n",
        "plt.title('Rata-rata Peminjaman Sepeda Berdasarkan Tahun')\n",
        "plt.xlabel('Tahun (0 = 2011, 1 = 2012)')\n",
        "plt.ylabel('Rata-rata Jumlah Peminjam')\n",
        "plt.show()"
      ]
    },
    {
      "cell_type": "code",
      "execution_count": null,
      "metadata": {
        "id": "bytBoT_4im7t"
      },
      "outputs": [],
      "source": [
        "corr_matrix = hour_cleaned[['temp', 'atemp', 'hum', 'windspeed', 'casual', 'registered', 'cnt']].corr()\n",
        "\n",
        "# Visualisasi heatmap korelasi\n",
        "plt.figure(figsize=(10, 8))\n",
        "sns.heatmap(corr_matrix, annot=True, cmap='coolwarm', linewidths=0.5, fmt='.2f')\n",
        "plt.title('Correlation Matrix of Bike Sharing Data', fontsize=16)\n",
        "plt.show()\n"
      ]
    },
    {
      "cell_type": "markdown",
      "metadata": {
        "id": "zsyZjqak8DC2"
      },
      "source": [
        "## Visualization & Explanatory Analysis"
      ]
    },
    {
      "cell_type": "markdown",
      "metadata": {
        "id": "HZxOiQ6n8DC2"
      },
      "source": [
        "### Pertanyaan 1:"
      ]
    },
    {
      "cell_type": "markdown",
      "metadata": {
        "id": "KZswzn0Lg9Md"
      },
      "source": [
        "Apakah ada tren peningkatan penggunaan sepeda pada musim tertentu dalam setahun?"
      ]
    },
    {
      "cell_type": "code",
      "execution_count": 55,
      "metadata": {
        "colab": {
          "base_uri": "https://localhost:8080/",
          "height": 790
        },
        "id": "1swJUdAD8DC2",
        "outputId": "6c7b6126-b341-4c29-d011-a28100e2afff"
      },
      "outputs": [
        {
          "name": "stderr",
          "output_type": "stream",
          "text": [
            "<ipython-input-55-de9fb552b6d6>:3: SettingWithCopyWarning: \n",
            "A value is trying to be set on a copy of a slice from a DataFrame.\n",
            "Try using .loc[row_indexer,col_indexer] = value instead\n",
            "\n",
            "See the caveats in the documentation: https://pandas.pydata.org/pandas-docs/stable/user_guide/indexing.html#returning-a-view-versus-a-copy\n",
            "  hour_cleaned['season_label'] = hour_cleaned['season'].map(season_labels)\n",
            "<ipython-input-55-de9fb552b6d6>:10: FutureWarning: \n",
            "\n",
            "Passing `palette` without assigning `hue` is deprecated and will be removed in v0.14.0. Assign the `x` variable to `hue` and set `legend=False` for the same effect.\n",
            "\n",
            "  sns.barplot(x='season_label', y='cnt', data=season_usage, palette='Set2')\n",
            "/usr/local/lib/python3.10/dist-packages/seaborn/_base.py:949: FutureWarning: When grouping with a length-1 list-like, you will need to pass a length-1 tuple to get_group in a future version of pandas. Pass `(name,)` instead of `name` to silence this warning.\n",
            "  data_subset = grouped_data.get_group(pd_key)\n",
            "/usr/local/lib/python3.10/dist-packages/seaborn/_base.py:949: FutureWarning: When grouping with a length-1 list-like, you will need to pass a length-1 tuple to get_group in a future version of pandas. Pass `(name,)` instead of `name` to silence this warning.\n",
            "  data_subset = grouped_data.get_group(pd_key)\n",
            "/usr/local/lib/python3.10/dist-packages/seaborn/_base.py:949: FutureWarning: When grouping with a length-1 list-like, you will need to pass a length-1 tuple to get_group in a future version of pandas. Pass `(name,)` instead of `name` to silence this warning.\n",
            "  data_subset = grouped_data.get_group(pd_key)\n",
            "/usr/local/lib/python3.10/dist-packages/seaborn/_base.py:949: FutureWarning: When grouping with a length-1 list-like, you will need to pass a length-1 tuple to get_group in a future version of pandas. Pass `(name,)` instead of `name` to silence this warning.\n",
            "  data_subset = grouped_data.get_group(pd_key)\n"
          ]
        },
        {
          "data": {
            "image/png": "[encoded data removed]",
            "text/plain": [
              "<Figure size 800x500 with 1 Axes>"
            ]
          },
          "metadata": {},
          "output_type": "display_data"
        }
      ],
      "source": [
        "# Ubah Data\n",
        "season_labels = {1: 'Winter', 2: 'Spring', 3: 'Summer', 4: 'Fall'}\n",
        "hour_cleaned['season_label'] = hour_cleaned['season'].map(season_labels)\n",
        "\n",
        "\n",
        "season_usage = hour_cleaned.groupby('season_label')['cnt'].sum().reset_index()\n",
        "\n",
        "# Visualisasi\n",
        "plt.figure(figsize=(8, 5))\n",
        "sns.barplot(x='season_label', y='cnt', data=season_usage, palette='Set2')\n",
        "\n",
        "plt.title('Total Bike Usage by Season', fontsize=16)\n",
        "plt.xlabel('Season', fontsize=12)\n",
        "plt.ylabel('Total Bike Usage (cnt)', fontsize=12)\n",
        "\n",
        "for index, value in enumerate(season_usage['cnt']):\n",
        "    plt.text(index, value + 5000, f'{value:,.0f}', ha='center', fontsize=12)\n",
        "\n",
        "plt.show()"
      ]
    },
    {
      "cell_type": "markdown",
      "metadata": {
        "id": "DgHI7CiU8DC2"
      },
      "source": [
        "### Pertanyaan 2:"
      ]
    },
    {
      "cell_type": "markdown",
      "metadata": {
        "id": "cuMu0a5Xh7j8"
      },
      "source": [
        "Jam berapa penggunaan sepeda paling tinggi dalam sehari?"
      ]
    },
    {
      "cell_type": "code",
      "execution_count": 56,
      "metadata": {
        "colab": {
          "base_uri": "https://localhost:8080/",
          "height": 434
        },
        "id": "Go0lCsvO8DC2",
        "outputId": "cc8b84c8-a9f5-44c7-e8f1-d08c7f61c772"
      },
      "outputs": [
        {
          "data": {
            "image/png": "[encoded data removed]",
            "text/plain": [
              "<Figure size 1000x600 with 1 Axes>"
            ]
          },
          "metadata": {},
          "output_type": "display_data"
        }
      ],
      "source": [
        "hourly_usage = hour_cleaned.groupby('hr')['cnt'].mean().reset_index()\n",
        "\n",
        "# Visualisasi penggunaan sepeda berdasarkan waktu (jam)\n",
        "plt.figure(figsize=(10, 6))\n",
        "sns.lineplot(x='hr', y='cnt', data=hourly_usage, marker='o', color='b')\n",
        "plt.title('Average Bike Usage by Hour of Day', fontsize=16)\n",
        "plt.xlabel('Hour of Day', fontsize=12)\n",
        "plt.ylabel('Average Bike Usage (cnt)', fontsize=12)\n",
        "plt.xticks(range(0, 24))\n",
        "plt.grid(True)\n",
        "plt.show()"
      ]
    },
    {
      "cell_type": "markdown",
      "metadata": {
        "id": "_0-36BDLklRg"
      },
      "source": [
        "**Insight:**\n",
        "- Dari visualisasi pertanyaan 1, kita dapat melihat tren peningkatan penggunaan sepeda berdasarkan musim. Jika penggunaan sepeda lebih tinggi di musim panas dan musim gugur hal ini menunjukkan bahwa cuaca yang lebih hangat cenderung mendorong lebih banyak orang untuk menggunakan sepeda. Sebaliknya, penggunaan sepeda mungkin lebih rendah di musim dingin, karena cuaca dingin bisa menjadi penghalang\n",
        "\n",
        "- Visualisasi untuk pertanyaan 2 menunjukkan pola penggunaan sepeda berdasarkan waktu. Terdapat dua puncak besar:\n",
        "Pagi hari (sekitar jam 8), yang menunjukkan bahwa banyak orang menggunakan sepeda untuk pergi bekerja.\n",
        "Sore hari (sekitar jam 17-18), saat orang pulang kerja.\n",
        "Hal ini menunjukkan bahwa penggunaan sepeda paling tinggi terjadi selama jam sibuk pagi dan sore hari, yang menandakan sepeda digunakan sebagai moda transportasi untuk bekerja"
      ]
    },
    {
      "cell_type": "markdown",
      "metadata": {
        "id": "9y4VUsmcYNZ5"
      },
      "source": [
        "## Analisis Lanjutan (Opsional)"
      ]
    },
    {
      "cell_type": "code",
      "execution_count": null,
      "metadata": {
        "id": "iWhnzsJGYUCO"
      },
      "outputs": [],
      "source": [
        "plt.figure(figsize=(10, 6))\n",
        "sns.lineplot(x='hr', y='casual', data=hour_cleaned, label='Casual Users', color='blue')\n",
        "sns.lineplot(x='hr', y='registered', data=hour_cleaned, label='Registered Users', color='green')\n",
        "plt.title('Bike Usage by Hour of Day: Casual vs Registered Users', fontsize=16)\n",
        "plt.xlabel('Hour of Day', fontsize=12)\n",
        "plt.ylabel('Bike Usage', fontsize=12)\n",
        "plt.legend()\n",
        "plt.show()\n"
      ]
    },
    {
      "cell_type": "markdown",
      "metadata": {
        "id": "_WeHlCeX8DC2"
      },
      "source": [
        "## Conclusion"
      ]
    },
    {
      "cell_type": "markdown",
      "metadata": {
        "id": "ZTcyR48Y8DC2"
      },
      "source": [
        "- Penggunaan sepeda cenderung meningkat selama musim panas dan musim gugur, sementara menurun di musim dingin\n",
        "- Penggunaan sepeda tertinggi terjadi pada jam-jam sibuk dimulai dari jam 8 pagi sampai jam 18.00 sore hari yang mana jam 17.00 merupakan titik puncak, kemungkinan karena banyak pengguna yang menggunakan sepeda untuk bekerja"
      ]
    },
    {
      "cell_type": "code",
      "execution_count": 60,
      "metadata": {
        "id": "Hge3oEmoEi6y"
      },
      "outputs": [],
      "source": [
        "with open('dashboard.py', 'w') as f:\n",
        "    f.write(\"\"\"\n",
        "import streamlit as st\n",
        "import pandas as pd\n",
        "import matplotlib.pyplot as plt\n",
        "import seaborn as sns\n",
        "\n",
        "# Load dataset\n",
        "data = pd.read_csv('hour.csv')\n",
        "\n",
        "# Title\n",
        "st.title(\"Bike Sharing Data Analysis\")\n",
        "\n",
        "# Pilihan visualisasi\n",
        "visual_choice = st.sidebar.selectbox(\"Pilih Visualisasi\", [\"Pengaruh Suhu terhadap Penyewaan\", \"Jumlah Penyewaan per Jam\"])\n",
        "\n",
        "# Visualisasi 1: Pengaruh Suhu terhadap Jumlah Penyewaan\n",
        "if visual_choice == \"Pengaruh Suhu terhadap Penyewaan\":\n",
        "    st.header(\"Pengaruh Suhu terhadap Jumlah Penyewaan\")\n",
        "    fig, ax = plt.subplots()\n",
        "    sns.scatterplot(x='temp', y='cnt', data=data, ax=ax)\n",
        "    st.pyplot(fig)\n",
        "\n",
        "# Visualisasi 2: Jumlah Penyewaan per Jam\n",
        "if visual_choice == \"Jumlah Penyewaan per Jam\":\n",
        "    st.header(\"Jumlah Penyewaan per Jam\")\n",
        "    fig, ax = plt.subplots()\n",
        "    sns.barplot(x='hr', y='cnt', data=data, ax=ax)\n",
        "    st.pyplot(fig)\n",
        "    \"\"\")\n"
      ]
    },
    {
      "cell_type": "code",
      "execution_count": 61,
      "metadata": {
        "colab": {
          "base_uri": "https://localhost:8080/",
          "height": 17
        },
        "id": "HDqx0KGXFjEf",
        "outputId": "e8e0e022-f1aa-49b6-a8e1-90f660a792af"
      },
      "outputs": [
        {
          "data": {
            "application/javascript": "\n    async function download(id, filename, size) {\n      if (!google.colab.kernel.accessAllowed) {\n        return;\n      }\n      const div = document.createElement('div');\n      const label = document.createElement('label');\n      label.textContent = `Downloading \"${filename}\": `;\n      div.appendChild(label);\n      const progress = document.createElement('progress');\n      progress.max = size;\n      div.appendChild(progress);\n      document.body.appendChild(div);\n\n      const buffers = [];\n      let downloaded = 0;\n\n      const channel = await google.colab.kernel.comms.open(id);\n      // Send a message to notify the kernel that we're ready.\n      channel.send({})\n\n      for await (const message of channel.messages) {\n        // Send a message to notify the kernel that we're ready.\n        channel.send({})\n        if (message.buffers) {\n          for (const buffer of message.buffers) {\n            buffers.push(buffer);\n            downloaded += buffer.byteLength;\n            progress.value = downloaded;\n          }\n        }\n      }\n      const blob = new Blob(buffers, {type: 'application/binary'});\n      const a = document.createElement('a');\n      a.href = window.URL.createObjectURL(blob);\n      a.download = filename;\n      div.appendChild(a);\n      a.click();\n      div.remove();\n    }\n  ",
            "text/plain": [
              "<IPython.core.display.Javascript object>"
            ]
          },
          "metadata": {},
          "output_type": "display_data"
        },
        {
          "data": {
            "application/javascript": "download(\"download_9a0e3b7e-21b0-418c-b003-315ab9354ba8\", \"dashboard.py\", 852)",
            "text/plain": [
              "<IPython.core.display.Javascript object>"
            ]
          },
          "metadata": {},
          "output_type": "display_data"
        }
      ],
      "source": [
        "from google.colab import files\n",
        "files.download('dashboard.py')"
      ]
    },
    {
      "cell_type": "markdown",
      "metadata": {
        "id": "8QaBWKFElJEQ"
      },
      "source": []
    }
  ],
  "metadata": {
    "colab": {
      "provenance": []
    },
    "kernelspec": {
      "display_name": "Python 3",
      "language": "python",
      "name": "python3"
    },
    "language_info": {
      "codemirror_mode": {
        "name": "ipython",
        "version": 3
      },
      "file_extension": ".py",
      "mimetype": "text/x-python",
      "name": "python",
      "nbconvert_exporter": "python",
      "pygments_lexer": "ipython3",
      "version": "3.11.5"
    },
    "orig_nbformat": 4,
    "vscode": {
      "interpreter": {
        "hash": "972b3bf27e332e87b5379f2791f6ef9dfc79c71018c370b0d7423235e20fe4d7"
      }
    }
  },
  "nbformat": 4,
  "nbformat_minor": 0
}
